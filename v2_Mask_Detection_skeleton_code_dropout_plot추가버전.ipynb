{
  "cells": [
    {
      "cell_type": "markdown",
      "metadata": {
        "id": "pVuAtM1g9b9W"
      },
      "source": [
        "\n",
        "# **0. Mask augmentation**\n",
        "\n",
        "*   mount google drive\n",
        "*   MaskTheFace github (https://github.com/aqeelanwar/MaskTheFace.git)\n",
        "*   include mask augmented face image samples in report\n",
        "\n"
      ]
    },
    {
      "cell_type": "code",
      "execution_count": 2,
      "metadata": {
        "colab": {
          "base_uri": "https://localhost:8080/"
        },
        "id": "GW3NGlMU9UKG",
        "outputId": "61b16d22-a543-410c-dfb0-54c5b5ef9f76"
      },
      "outputs": [
        {
          "name": "stdout",
          "output_type": "stream",
          "text": [
            "Mounted at /content/drive\n"
          ]
        }
      ],
      "source": [
        "from google.colab import drive\n",
        "drive.mount('/content/drive')"
      ]
    },
    {
      "cell_type": "code",
      "execution_count": null,
      "metadata": {},
      "outputs": [],
      "source": [
        "# drive mount 후 colab의 현재 경로 /content\n",
        "# ! git clone https://github.com/aqeelanwar/MaskTheFace.git"
      ]
    },
    {
      "cell_type": "code",
      "execution_count": 3,
      "metadata": {
        "colab": {
          "base_uri": "https://localhost:8080/"
        },
        "id": "CelSWL20zIa9",
        "outputId": "8e85aa21-e7c5-4636-dc42-0b18c927f1e7"
      },
      "outputs": [
        {
          "name": "stdout",
          "output_type": "stream",
          "text": [
            "Collecting wandb\n",
            "  Downloading wandb-0.17.0-py3-none-manylinux_2_5_x86_64.manylinux1_x86_64.manylinux_2_17_x86_64.manylinux2014_x86_64.whl (6.7 MB)\n",
            "\u001b[?25l     \u001b[90m━━━━━━━━━━━━━━━━━━━━━━━━━━━━━━━━━━━━━━━━\u001b[0m \u001b[32m0.0/6.7 MB\u001b[0m \u001b[31m?\u001b[0m eta \u001b[36m-:--:--\u001b[0m\r\u001b[2K     \u001b[91m━━━━━━━\u001b[0m\u001b[91m╸\u001b[0m\u001b[90m━━━━━━━━━━━━━━━━━━━━━━━━━━━━━━━━\u001b[0m \u001b[32m1.3/6.7 MB\u001b[0m \u001b[31m39.2 MB/s\u001b[0m eta \u001b[36m0:00:01\u001b[0m\r\u001b[2K     \u001b[91m━━━━━━━━━━━━━━━━━━━━━━━━━━━━━━━━━━━━━━━\u001b[0m\u001b[91m╸\u001b[0m \u001b[32m6.7/6.7 MB\u001b[0m \u001b[31m104.0 MB/s\u001b[0m eta \u001b[36m0:00:01\u001b[0m\r\u001b[2K     \u001b[90m━━━━━━━━━━━━━━━━━━━━━━━━━━━━━━━━━━━━━━━━\u001b[0m \u001b[32m6.7/6.7 MB\u001b[0m \u001b[31m71.6 MB/s\u001b[0m eta \u001b[36m0:00:00\u001b[0m\n",
            "\u001b[?25hRequirement already satisfied: click!=8.0.0,>=7.1 in /usr/local/lib/python3.10/dist-packages (from wandb) (8.1.7)\n",
            "Collecting docker-pycreds>=0.4.0 (from wandb)\n",
            "  Downloading docker_pycreds-0.4.0-py2.py3-none-any.whl (9.0 kB)\n",
            "Collecting gitpython!=3.1.29,>=1.0.0 (from wandb)\n",
            "  Downloading GitPython-3.1.43-py3-none-any.whl (207 kB)\n",
            "\u001b[2K     \u001b[90m━━━━━━━━━━━━━━━━━━━━━━━━━━━━━━━━━━━━━━━━\u001b[0m \u001b[32m207.3/207.3 kB\u001b[0m \u001b[31m31.8 MB/s\u001b[0m eta \u001b[36m0:00:00\u001b[0m\n",
            "\u001b[?25hRequirement already satisfied: platformdirs in /usr/local/lib/python3.10/dist-packages (from wandb) (4.2.2)\n",
            "Requirement already satisfied: protobuf!=4.21.0,<5,>=3.19.0 in /usr/local/lib/python3.10/dist-packages (from wandb) (3.20.3)\n",
            "Requirement already satisfied: psutil>=5.0.0 in /usr/local/lib/python3.10/dist-packages (from wandb) (5.9.5)\n",
            "Requirement already satisfied: pyyaml in /usr/local/lib/python3.10/dist-packages (from wandb) (6.0.1)\n",
            "Requirement already satisfied: requests<3,>=2.0.0 in /usr/local/lib/python3.10/dist-packages (from wandb) (2.31.0)\n",
            "Collecting sentry-sdk>=1.0.0 (from wandb)\n",
            "  Downloading sentry_sdk-2.3.1-py2.py3-none-any.whl (289 kB)\n",
            "\u001b[2K     \u001b[90m━━━━━━━━━━━━━━━━━━━━━━━━━━━━━━━━━━━━━━━━\u001b[0m \u001b[32m289.0/289.0 kB\u001b[0m \u001b[31m39.2 MB/s\u001b[0m eta \u001b[36m0:00:00\u001b[0m\n",
            "\u001b[?25hCollecting setproctitle (from wandb)\n",
            "  Downloading setproctitle-1.3.3-cp310-cp310-manylinux_2_5_x86_64.manylinux1_x86_64.manylinux_2_17_x86_64.manylinux2014_x86_64.whl (30 kB)\n",
            "Requirement already satisfied: setuptools in /usr/local/lib/python3.10/dist-packages (from wandb) (67.7.2)\n",
            "Requirement already satisfied: six>=1.4.0 in /usr/local/lib/python3.10/dist-packages (from docker-pycreds>=0.4.0->wandb) (1.16.0)\n",
            "Collecting gitdb<5,>=4.0.1 (from gitpython!=3.1.29,>=1.0.0->wandb)\n",
            "  Downloading gitdb-4.0.11-py3-none-any.whl (62 kB)\n",
            "\u001b[2K     \u001b[90m━━━━━━━━━━━━━━━━━━━━━━━━━━━━━━━━━━━━━━━━\u001b[0m \u001b[32m62.7/62.7 kB\u001b[0m \u001b[31m10.4 MB/s\u001b[0m eta \u001b[36m0:00:00\u001b[0m\n",
            "\u001b[?25hRequirement already satisfied: charset-normalizer<4,>=2 in /usr/local/lib/python3.10/dist-packages (from requests<3,>=2.0.0->wandb) (3.3.2)\n",
            "Requirement already satisfied: idna<4,>=2.5 in /usr/local/lib/python3.10/dist-packages (from requests<3,>=2.0.0->wandb) (3.7)\n",
            "Requirement already satisfied: urllib3<3,>=1.21.1 in /usr/local/lib/python3.10/dist-packages (from requests<3,>=2.0.0->wandb) (2.0.7)\n",
            "Requirement already satisfied: certifi>=2017.4.17 in /usr/local/lib/python3.10/dist-packages (from requests<3,>=2.0.0->wandb) (2024.2.2)\n",
            "Collecting smmap<6,>=3.0.1 (from gitdb<5,>=4.0.1->gitpython!=3.1.29,>=1.0.0->wandb)\n",
            "  Downloading smmap-5.0.1-py3-none-any.whl (24 kB)\n",
            "Installing collected packages: smmap, setproctitle, sentry-sdk, docker-pycreds, gitdb, gitpython, wandb\n",
            "Successfully installed docker-pycreds-0.4.0 gitdb-4.0.11 gitpython-3.1.43 sentry-sdk-2.3.1 setproctitle-1.3.3 smmap-5.0.1 wandb-0.17.0\n"
          ]
        }
      ],
      "source": [
        "! pip install wandb\n",
        "\n",
        "# MaskTheFace Package 설치 (MaskTheFace 관련 코드는 주석처리 해놓음)\n",
        "# ! pip install dlib\n",
        "# ! pip install face-recognition\n",
        "# ! pip install face-recognition-models\n",
        "# ! pip install dotmap"
      ]
    },
    {
      "cell_type": "code",
      "execution_count": null,
      "metadata": {},
      "outputs": [],
      "source": [
        "# # import packages\n",
        "# from pathlib import Path\n",
        "# import os, shutil\n",
        "\n",
        "# # DATA_URL = \"mask_data\" # 구글 드라이브에서의 폴더 이름\n",
        "# ZIP_FILENAME = \"data_original.zip\" # 폴더 안에 있는 data.zip 원본 파일 이름\n",
        "# UNZIP_DESTINATION = \"dataset\" # Colab VM에 저장될 폴더 이름\n",
        "# NUM_WORKERS = os.cpu_count()\n",
        "\n",
        "# DRIVE_URL = Path('/content/drive/MyDrive')\n",
        "# ORIGINAL_DATA_URL = DRIVE_URL / ZIP_FILENAME\n",
        "\n",
        "# BASE_URL = Path(\"/content\")\n",
        "\n",
        "# if not (BASE_URL / UNZIP_DESTINATION).exists():\n",
        "#   (BASE_URL / UNZIP_DESTINATION).mkdir()\n",
        "\n",
        "# if not (BASE_URL / ZIP_FILENAME).exists() and ORIGINAL_DATA_URL.exists():\n",
        "#   shutil.copy2(ORIGINAL_DATA_URL, BASE_URL)\n",
        "\n",
        "# if (BASE_URL / ZIP_FILENAME).exists():\n",
        "#   os.system(f\"unzip {ZIP_FILENAME} -d {UNZIP_DESTINATION}\")\n",
        "#   (BASE_URL / ZIP_FILENAME).unlink()\n",
        "\n",
        "# BASE_URL = BASE_URL / UNZIP_DESTINATION"
      ]
    },
    {
      "cell_type": "code",
      "execution_count": null,
      "metadata": {},
      "outputs": [],
      "source": [
        "# cd 'MaskTheFace'"
      ]
    },
    {
      "cell_type": "code",
      "execution_count": null,
      "metadata": {},
      "outputs": [],
      "source": [
        "# ! python mask_the_face.py --path \"/content/dataset/train/not_wearing_mask\" --mask_type \"random\""
      ]
    },
    {
      "cell_type": "code",
      "execution_count": null,
      "metadata": {},
      "outputs": [],
      "source": [
        "# ! python mask_the_face.py --path \"/content/dataset/val/not_wearing_mask\" --mask_type \"random\""
      ]
    },
    {
      "cell_type": "code",
      "execution_count": null,
      "metadata": {},
      "outputs": [],
      "source": [
        "# directories = {\n",
        "#     \"train\": {\n",
        "#         \"masked\": \"/content/dataset/train/not_wearing_mask_masked\",\n",
        "#         \"wearing\": \"/content/dataset/train/wearing_mask\"\n",
        "#     },\n",
        "#     \"val\": {\n",
        "#         \"masked\": \"/content/dataset/val/not_wearing_mask_masked\",\n",
        "#         \"wearing\": \"/content/dataset/val/wearing_mask\"\n",
        "#     }\n",
        "# }\n",
        "\n",
        "# for key, paths in directories.items():\n",
        "#     SOURCE = paths[\"masked\"]\n",
        "#     DESTINATION = paths[\"wearing\"]\n",
        "\n",
        "#     if os.path.exists(SOURCE):\n",
        "#         shutil.rmtree(DESTINATION)\n",
        "\n",
        "#     os.rename(SOURCE, DESTINATION)"
      ]
    },
    {
      "cell_type": "markdown",
      "metadata": {
        "id": "tpHtE4Lu96GR"
      },
      "source": [
        "# **1. Prepare Data for Training**\n",
        "\n",
        "*   data_loader using *torchvision.datasets.ImageFolder* for Custom dataset\n",
        "*   **image augmentation** in *transforms*\n",
        "*   include augmented face image samples in report\n",
        "\n"
      ]
    },
    {
      "cell_type": "code",
      "execution_count": 4,
      "metadata": {
        "id": "EHKJq22C9_Pk"
      },
      "outputs": [],
      "source": [
        "# import packages\n",
        "from pathlib import Path\n",
        "import os, shutil\n",
        "\n",
        "import torch\n",
        "from torch import nn, optim\n",
        "from torch.nn import functional as F\n",
        "from torch.utils.data import DataLoader\n",
        "\n",
        "import torchvision\n",
        "from torchvision import transforms\n",
        "from torchvision.transforms import v2\n",
        "\n",
        "from tqdm import tqdm\n",
        "from sklearn import metrics\n",
        "\n",
        "# DATA_URL = \"mask_data\" # 구글 드라이브에서의 폴더 이름\n",
        "ZIP_FILENAME = \"data.zip\" # 폴더 안에 있는 zip 파일 이름\n",
        "UNZIP_DESTINATION = \"dataset\" # Colab VM에 저장될 폴더 이름\n",
        "NUM_WORKERS = os.cpu_count()\n",
        "\n",
        "DRIVE_URL = Path('/content/drive/MyDrive')\n",
        "ORIGINAL_DATA_URL = DRIVE_URL / ZIP_FILENAME\n",
        "\n",
        "BASE_URL = Path(\"/content\")\n",
        "\n",
        "if not (BASE_URL / UNZIP_DESTINATION).exists():\n",
        "  (BASE_URL / UNZIP_DESTINATION).mkdir()\n",
        "\n",
        "if not (BASE_URL / ZIP_FILENAME).exists() and ORIGINAL_DATA_URL.exists():\n",
        "  shutil.copy2(ORIGINAL_DATA_URL, BASE_URL)\n",
        "\n",
        "if (BASE_URL / ZIP_FILENAME).exists():\n",
        "  os.system(f\"unzip {ZIP_FILENAME} -d {UNZIP_DESTINATION}\")\n",
        "  (BASE_URL / ZIP_FILENAME).unlink()\n",
        "\n",
        "drive.flush_and_unmount()\n",
        "\n",
        "BASE_URL = BASE_URL / UNZIP_DESTINATION"
      ]
    },
    {
      "cell_type": "code",
      "execution_count": 5,
      "metadata": {
        "id": "BGgwKyEY9_SP"
      },
      "outputs": [],
      "source": [
        "# transforms for image augmentation\n",
        "train_transform = transforms.v2.Compose([\n",
        "    v2.CenterCrop(112),\n",
        "    v2.RandomHorizontalFlip(),\n",
        "    v2.RandomVerticalFlip(),\n",
        "    v2.RandomRotation(degrees=(0, 180)),\n",
        "    # v2.ColorJitter(),\n",
        "    # v2.Grayscale(num_output_channels=3),\n",
        "    # v2.GaussianBlur(kernel_size=(5, 9), sigma=(0.1, 5.)),\n",
        "    v2.RandomPerspective(distortion_scale=0.6, p=1.0),\n",
        "    # scale=True의 의미: https://pytorch.org/vision/main/transforms.html#dtype-and-expected-value-range\n",
        "    # v2를 사용한 이유: https://pytorch.org/vision/main/transforms.html#v1-or-v2-which-one-should-i-use\n",
        "    # v2를 사용하면 ToTensor 대신 ToImage와 ToDtype의 조합 사용해야함.\n",
        "    v2.ToImage(), v2.ToDtype(torch.float32, scale=True), # scale=True -> [0, 1] 사이로 값 조정\n",
        "])\n",
        "\n",
        "val_transform = transforms.v2.Compose([\n",
        "    v2.CenterCrop(112),\n",
        "    v2.RandomHorizontalFlip(),\n",
        "    v2.RandomVerticalFlip(),\n",
        "    v2.RandomRotation(degrees=(0, 180)),\n",
        "    # v2.ColorJitter(),\n",
        "    # v2.Grayscale(num_output_channels=3),\n",
        "    # v2.GaussianBlur(kernel_size=(5, 9), sigma=(0.1, 5.)),\n",
        "    v2.RandomPerspective(distortion_scale=0.6, p=1.0),\n",
        "    v2.ToImage(), v2.ToDtype(torch.float32, scale=True),\n",
        "])\n",
        "\n",
        "test_transform = transforms.v2.Compose([\n",
        "    v2.Resize(128),\n",
        "    v2.CenterCrop(112),\n",
        "    v2.RandomHorizontalFlip(),\n",
        "    v2.RandomVerticalFlip(),\n",
        "    v2.RandomRotation(degrees=(0, 180)),\n",
        "    # v2.ColorJitter(),\n",
        "    # v2.GaussianBlur(kernel_size=(5, 9), sigma=(0.1, 5.)),\n",
        "    v2.RandomPerspective(distortion_scale=0.6, p=1.0),\n",
        "    v2.ToImage(), v2.ToDtype(torch.float32, scale=True),\n",
        "])"
      ]
    },
    {
      "cell_type": "code",
      "execution_count": 6,
      "metadata": {
        "colab": {
          "base_uri": "https://localhost:8080/"
        },
        "id": "ZiQqnEio9_U1",
        "outputId": "cf991190-539c-45ac-9786-26d54ad59b76"
      },
      "outputs": [
        {
          "name": "stdout",
          "output_type": "stream",
          "text": [
            "/content/dataset/train : {'not_wearing_mask': 0, 'wearing_mask': 1}\n",
            "/content/dataset/val: {'not_wearing_mask': 0, 'wearing_mask': 1}\n"
          ]
        }
      ],
      "source": [
        "from torchvision.datasets import ImageFolder\n",
        "\n",
        "train_path = BASE_URL / 'train'\n",
        "val_path = BASE_URL / 'val'\n",
        "test_path = BASE_URL / 'test'\n",
        "\n",
        "# write ImageFolder code below\n",
        "train_dataset = ImageFolder(train_path, transform=train_transform)\n",
        "val_dataset = ImageFolder(val_path, transform=val_transform)\n",
        "test_dataset = ImageFolder(test_path, transform=test_transform)\n",
        "\n",
        "# check the label\n",
        "# train_data.class_to_idx -> {'not_wearing_mask': 0, 'wearing_mask': 1}\n",
        "# val_data.class_to_idx -> {'not_wearing_mask': 0, 'wearing_mask': 1}\n",
        "print(f\"{train_path} : {train_dataset.class_to_idx}\")\n",
        "print(f\"{val_path}: {val_dataset.class_to_idx}\")"
      ]
    },
    {
      "cell_type": "code",
      "execution_count": 28,
      "metadata": {
        "colab": {
          "base_uri": "https://localhost:8080/",
          "height": 308
        },
        "id": "1uLkVM917xV-",
        "outputId": "ae919ff8-c9d6-4424-9f46-f3fc194cdd0f"
      },
      "outputs": [
        {
          "data": {
            "image/png": "[encoded data removed]",
            "text/plain": [
              "<Figure size 600x300 with 8 Axes>"
            ]
          },
          "metadata": {},
          "output_type": "display_data"
        }
      ],
      "source": [
        "import matplotlib.pyplot as plt\n",
        "import numpy as np\n",
        "\n",
        "def imshow(img, ax=None, title=None, fontsize=8):\n",
        "    if ax is None:\n",
        "        ax = plt.gca()\n",
        "    img = img / 2 + 0.5  # unnormalize if normalization was applied\n",
        "    npimg = img.numpy()\n",
        "    ax.imshow(np.transpose(npimg, (1, 2, 0)))\n",
        "    if title is not None:\n",
        "        ax.set_title(title, fontsize=fontsize)\n",
        "    ax.axis('off')\n",
        "\n",
        "# 이미지와 라벨 출력\n",
        "def show_images(dataset, predicted_labels=None, num_images_per_class=4):\n",
        "    class_indices = {class_name: [] for class_name in dataset.class_to_idx.keys()}\n",
        "\n",
        "    for idx, (img, label) in enumerate(dataset):\n",
        "        class_name = list(dataset.class_to_idx.keys())[label]\n",
        "        if len(class_indices[class_name]) < num_images_per_class:\n",
        "            class_indices[class_name].append(idx)\n",
        "        if all(len(indices) == num_images_per_class for indices in class_indices.values()):\n",
        "            break\n",
        "\n",
        "    fig, axes = plt.subplots(2, 4, figsize=(6, 3))\n",
        "    axes = axes.flatten()\n",
        "    for i, class_name in enumerate(class_indices.keys()):\n",
        "        for j, idx in enumerate(class_indices[class_name]):\n",
        "            img, label = dataset[idx]\n",
        "            title = f\"{class_name} : {label}\"\n",
        "\n",
        "            if predicted_labels is not None:\n",
        "              predicted_label = predicted_labels[idx]\n",
        "              title += f\"\\nprediction : {predicted_label}\"\n",
        "            ax = axes[i * num_images_per_class + j]\n",
        "            imshow(img, ax=ax, title=title)\n",
        "    plt.tight_layout()\n",
        "    plt.show()\n",
        "\n",
        "# 이미지 출력\n",
        "show_images(train_dataset)"
      ]
    },
    {
      "cell_type": "markdown",
      "metadata": {
        "id": "G3_M5PPK-rpS"
      },
      "source": [
        "# **2. Prepare Model**\n",
        "\n",
        "*   Pytorch ResNet - *ref*. https://github.com/pytorch/vision/blob/main/torchvision/models/resnet.py\n",
        "*   use **ResNet50** from torchvision.model_zoo\n",
        "*   explore more models in https://pytorch.org/vision/stable/models.html\n",
        "*   **change the dimension of the classifier**"
      ]
    },
    {
      "cell_type": "code",
      "execution_count": 8,
      "metadata": {
        "colab": {
          "base_uri": "https://localhost:8080/"
        },
        "id": "nnwmCewA9_XZ",
        "outputId": "22592fb4-c37b-4acc-a72e-0fe187f356e3"
      },
      "outputs": [
        {
          "name": "stdout",
          "output_type": "stream",
          "text": [
            "cuda\n"
          ]
        }
      ],
      "source": [
        "# assign device cpu or gpu\n",
        "device = torch.device(\"cuda\" if torch.cuda.is_available() else \"cpu\")\n",
        "print(device)"
      ]
    },
    {
      "cell_type": "code",
      "execution_count": 9,
      "metadata": {
        "id": "aWtoPoMw9_aB"
      },
      "outputs": [],
      "source": [
        "import torchvision.models as models\n",
        "\n",
        "def initialize_weights(m):\n",
        "  if isinstance(m, nn.Conv2d):\n",
        "    nn.init.kaiming_uniform_(m.weight.data,nonlinearity='relu')\n",
        "  elif isinstance(m, nn.BatchNorm2d):\n",
        "    nn.init.constant_(m.weight.data, 1)\n",
        "    nn.init.constant_(m.bias.data, 0)\n",
        "  elif isinstance(m, nn.Linear):\n",
        "    nn.init.kaiming_uniform_(m.weight.data)\n",
        "    nn.init.constant_(m.bias.data, 0)\n",
        "  elif isinstance(m, nn.Sequential):\n",
        "    for sm in list(m):\n",
        "      initialize_weights(sm)\n",
        "  elif isinstance(m, models.resnet.Bottleneck):\n",
        "    for sm in m.children():\n",
        "      initialize_weights(sm)\n",
        "\n",
        "def conv1x1(in_planes, out_planes, stride=1):\n",
        "    return nn.Conv2d(in_planes, out_planes, kernel_size=1, stride=stride, bias=False)\n",
        "\n",
        "\n",
        "class ResNet_dp(models.ResNet):\n",
        "    def __init__(self, block, layers, use_dropout=False, dropout_prob=0.5, **kwargs):\n",
        "        self.use_dropout = use_dropout\n",
        "        self.dropout_prob = dropout_prob\n",
        "        super(ResNet_dp, self).__init__(block, layers, **kwargs)\n",
        "\n",
        "    def _make_layer(self, block, planes, blocks, stride=1, dilate=False):\n",
        "        norm_layer = self._norm_layer\n",
        "        downsample = None\n",
        "        previous_dilation = self.dilation\n",
        "        if dilate:\n",
        "            self.dilation *= stride\n",
        "            stride = 1\n",
        "        if stride != 1 or self.inplanes != planes * block.expansion:\n",
        "            downsample = nn.Sequential(\n",
        "                conv1x1(self.inplanes, planes * block.expansion, stride),\n",
        "                norm_layer(planes * block.expansion),\n",
        "            )\n",
        "\n",
        "        layers = []\n",
        "        layers.append(block(self.inplanes, planes, stride, downsample, self.groups,\n",
        "                            self.base_width, previous_dilation, norm_layer))\n",
        "        self.inplanes = planes * block.expansion\n",
        "        for _ in range(1, blocks):\n",
        "            layers.append(block(self.inplanes, planes, groups=self.groups,\n",
        "                                base_width=self.base_width, dilation=self.dilation,\n",
        "                                norm_layer=norm_layer))\n",
        "\n",
        "        if self.use_dropout:\n",
        "            for layer in layers:\n",
        "                if hasattr(layer, 'relu'):\n",
        "                    layer.relu = nn.Sequential(\n",
        "                        layer.relu,\n",
        "                        nn.Dropout(self.dropout_prob)\n",
        "                    )\n",
        "\n",
        "        return nn.Sequential(*layers)\n",
        "\n",
        "def init_resnet50(init_weights=False, use_dropout=False, dropout_prob=0.5):\n",
        "    model = ResNet_dp(models.resnet.Bottleneck, [3, 4, 6, 3], use_dropout=use_dropout, dropout_prob=dropout_prob)\n",
        "    model.fc = nn.Linear(model.fc.in_features, 1)  # Change the # of classes\n",
        "\n",
        "    if init_weights:\n",
        "        model.apply(initialize_weights)\n",
        "\n",
        "    return model\n"
      ]
    },
    {
      "cell_type": "code",
      "execution_count": 10,
      "metadata": {
        "colab": {
          "base_uri": "https://localhost:8080/"
        },
        "id": "uX0zF19P9_cd",
        "outputId": "2493971c-d3ec-47fd-f4a4-6660a9b3a53e"
      },
      "outputs": [
        {
          "name": "stdout",
          "output_type": "stream",
          "text": [
            "ResNet_dp(\n",
            "  (conv1): Conv2d(3, 64, kernel_size=(7, 7), stride=(2, 2), padding=(3, 3), bias=False)\n",
            "  (bn1): BatchNorm2d(64, eps=1e-05, momentum=0.1, affine=True, track_running_stats=True)\n",
            "  (relu): ReLU(inplace=True)\n",
            "  (maxpool): MaxPool2d(kernel_size=3, stride=2, padding=1, dilation=1, ceil_mode=False)\n",
            "  (layer1): Sequential(\n",
            "    (0): Bottleneck(\n",
            "      (conv1): Conv2d(64, 64, kernel_size=(1, 1), stride=(1, 1), bias=False)\n",
            "      (bn1): BatchNorm2d(64, eps=1e-05, momentum=0.1, affine=True, track_running_stats=True)\n",
            "      (conv2): Conv2d(64, 64, kernel_size=(3, 3), stride=(1, 1), padding=(1, 1), bias=False)\n",
            "      (bn2): BatchNorm2d(64, eps=1e-05, momentum=0.1, affine=True, track_running_stats=True)\n",
            "      (conv3): Conv2d(64, 256, kernel_size=(1, 1), stride=(1, 1), bias=False)\n",
            "      (bn3): BatchNorm2d(256, eps=1e-05, momentum=0.1, affine=True, track_running_stats=True)\n",
            "      (relu): Sequential(\n",
            "        (0): ReLU(inplace=True)\n",
            "        (1): Dropout(p=0.5, inplace=False)\n",
            "      )\n",
            "      (downsample): Sequential(\n",
            "        (0): Conv2d(64, 256, kernel_size=(1, 1), stride=(1, 1), bias=False)\n",
            "        (1): BatchNorm2d(256, eps=1e-05, momentum=0.1, affine=True, track_running_stats=True)\n",
            "      )\n",
            "    )\n",
            "    (1): Bottleneck(\n",
            "      (conv1): Conv2d(256, 64, kernel_size=(1, 1), stride=(1, 1), bias=False)\n",
            "      (bn1): BatchNorm2d(64, eps=1e-05, momentum=0.1, affine=True, track_running_stats=True)\n",
            "      (conv2): Conv2d(64, 64, kernel_size=(3, 3), stride=(1, 1), padding=(1, 1), bias=False)\n",
            "      (bn2): BatchNorm2d(64, eps=1e-05, momentum=0.1, affine=True, track_running_stats=True)\n",
            "      (conv3): Conv2d(64, 256, kernel_size=(1, 1), stride=(1, 1), bias=False)\n",
            "      (bn3): BatchNorm2d(256, eps=1e-05, momentum=0.1, affine=True, track_running_stats=True)\n",
            "      (relu): Sequential(\n",
            "        (0): ReLU(inplace=True)\n",
            "        (1): Dropout(p=0.5, inplace=False)\n",
            "      )\n",
            "    )\n",
            "    (2): Bottleneck(\n",
            "      (conv1): Conv2d(256, 64, kernel_size=(1, 1), stride=(1, 1), bias=False)\n",
            "      (bn1): BatchNorm2d(64, eps=1e-05, momentum=0.1, affine=True, track_running_stats=True)\n",
            "      (conv2): Conv2d(64, 64, kernel_size=(3, 3), stride=(1, 1), padding=(1, 1), bias=False)\n",
            "      (bn2): BatchNorm2d(64, eps=1e-05, momentum=0.1, affine=True, track_running_stats=True)\n",
            "      (conv3): Conv2d(64, 256, kernel_size=(1, 1), stride=(1, 1), bias=False)\n",
            "      (bn3): BatchNorm2d(256, eps=1e-05, momentum=0.1, affine=True, track_running_stats=True)\n",
            "      (relu): Sequential(\n",
            "        (0): ReLU(inplace=True)\n",
            "        (1): Dropout(p=0.5, inplace=False)\n",
            "      )\n",
            "    )\n",
            "  )\n",
            "  (layer2): Sequential(\n",
            "    (0): Bottleneck(\n",
            "      (conv1): Conv2d(256, 128, kernel_size=(1, 1), stride=(1, 1), bias=False)\n",
            "      (bn1): BatchNorm2d(128, eps=1e-05, momentum=0.1, affine=True, track_running_stats=True)\n",
            "      (conv2): Conv2d(128, 128, kernel_size=(3, 3), stride=(2, 2), padding=(1, 1), bias=False)\n",
            "      (bn2): BatchNorm2d(128, eps=1e-05, momentum=0.1, affine=True, track_running_stats=True)\n",
            "      (conv3): Conv2d(128, 512, kernel_size=(1, 1), stride=(1, 1), bias=False)\n",
            "      (bn3): BatchNorm2d(512, eps=1e-05, momentum=0.1, affine=True, track_running_stats=True)\n",
            "      (relu): Sequential(\n",
            "        (0): ReLU(inplace=True)\n",
            "        (1): Dropout(p=0.5, inplace=False)\n",
            "      )\n",
            "      (downsample): Sequential(\n",
            "        (0): Conv2d(256, 512, kernel_size=(1, 1), stride=(2, 2), bias=False)\n",
            "        (1): BatchNorm2d(512, eps=1e-05, momentum=0.1, affine=True, track_running_stats=True)\n",
            "      )\n",
            "    )\n",
            "    (1): Bottleneck(\n",
            "      (conv1): Conv2d(512, 128, kernel_size=(1, 1), stride=(1, 1), bias=False)\n",
            "      (bn1): BatchNorm2d(128, eps=1e-05, momentum=0.1, affine=True, track_running_stats=True)\n",
            "      (conv2): Conv2d(128, 128, kernel_size=(3, 3), stride=(1, 1), padding=(1, 1), bias=False)\n",
            "      (bn2): BatchNorm2d(128, eps=1e-05, momentum=0.1, affine=True, track_running_stats=True)\n",
            "      (conv3): Conv2d(128, 512, kernel_size=(1, 1), stride=(1, 1), bias=False)\n",
            "      (bn3): BatchNorm2d(512, eps=1e-05, momentum=0.1, affine=True, track_running_stats=True)\n",
            "      (relu): Sequential(\n",
            "        (0): ReLU(inplace=True)\n",
            "        (1): Dropout(p=0.5, inplace=False)\n",
            "      )\n",
            "    )\n",
            "    (2): Bottleneck(\n",
            "      (conv1): Conv2d(512, 128, kernel_size=(1, 1), stride=(1, 1), bias=False)\n",
            "      (bn1): BatchNorm2d(128, eps=1e-05, momentum=0.1, affine=True, track_running_stats=True)\n",
            "      (conv2): Conv2d(128, 128, kernel_size=(3, 3), stride=(1, 1), padding=(1, 1), bias=False)\n",
            "      (bn2): BatchNorm2d(128, eps=1e-05, momentum=0.1, affine=True, track_running_stats=True)\n",
            "      (conv3): Conv2d(128, 512, kernel_size=(1, 1), stride=(1, 1), bias=False)\n",
            "      (bn3): BatchNorm2d(512, eps=1e-05, momentum=0.1, affine=True, track_running_stats=True)\n",
            "      (relu): Sequential(\n",
            "        (0): ReLU(inplace=True)\n",
            "        (1): Dropout(p=0.5, inplace=False)\n",
            "      )\n",
            "    )\n",
            "    (3): Bottleneck(\n",
            "      (conv1): Conv2d(512, 128, kernel_size=(1, 1), stride=(1, 1), bias=False)\n",
            "      (bn1): BatchNorm2d(128, eps=1e-05, momentum=0.1, affine=True, track_running_stats=True)\n",
            "      (conv2): Conv2d(128, 128, kernel_size=(3, 3), stride=(1, 1), padding=(1, 1), bias=False)\n",
            "      (bn2): BatchNorm2d(128, eps=1e-05, momentum=0.1, affine=True, track_running_stats=True)\n",
            "      (conv3): Conv2d(128, 512, kernel_size=(1, 1), stride=(1, 1), bias=False)\n",
            "      (bn3): BatchNorm2d(512, eps=1e-05, momentum=0.1, affine=True, track_running_stats=True)\n",
            "      (relu): Sequential(\n",
            "        (0): ReLU(inplace=True)\n",
            "        (1): Dropout(p=0.5, inplace=False)\n",
            "      )\n",
            "    )\n",
            "  )\n",
            "  (layer3): Sequential(\n",
            "    (0): Bottleneck(\n",
            "      (conv1): Conv2d(512, 256, kernel_size=(1, 1), stride=(1, 1), bias=False)\n",
            "      (bn1): BatchNorm2d(256, eps=1e-05, momentum=0.1, affine=True, track_running_stats=True)\n",
            "      (conv2): Conv2d(256, 256, kernel_size=(3, 3), stride=(2, 2), padding=(1, 1), bias=False)\n",
            "      (bn2): BatchNorm2d(256, eps=1e-05, momentum=0.1, affine=True, track_running_stats=True)\n",
            "      (conv3): Conv2d(256, 1024, kernel_size=(1, 1), stride=(1, 1), bias=False)\n",
            "      (bn3): BatchNorm2d(1024, eps=1e-05, momentum=0.1, affine=True, track_running_stats=True)\n",
            "      (relu): Sequential(\n",
            "        (0): ReLU(inplace=True)\n",
            "        (1): Dropout(p=0.5, inplace=False)\n",
            "      )\n",
            "      (downsample): Sequential(\n",
            "        (0): Conv2d(512, 1024, kernel_size=(1, 1), stride=(2, 2), bias=False)\n",
            "        (1): BatchNorm2d(1024, eps=1e-05, momentum=0.1, affine=True, track_running_stats=True)\n",
            "      )\n",
            "    )\n",
            "    (1): Bottleneck(\n",
            "      (conv1): Conv2d(1024, 256, kernel_size=(1, 1), stride=(1, 1), bias=False)\n",
            "      (bn1): BatchNorm2d(256, eps=1e-05, momentum=0.1, affine=True, track_running_stats=True)\n",
            "      (conv2): Conv2d(256, 256, kernel_size=(3, 3), stride=(1, 1), padding=(1, 1), bias=False)\n",
            "      (bn2): BatchNorm2d(256, eps=1e-05, momentum=0.1, affine=True, track_running_stats=True)\n",
            "      (conv3): Conv2d(256, 1024, kernel_size=(1, 1), stride=(1, 1), bias=False)\n",
            "      (bn3): BatchNorm2d(1024, eps=1e-05, momentum=0.1, affine=True, track_running_stats=True)\n",
            "      (relu): Sequential(\n",
            "        (0): ReLU(inplace=True)\n",
            "        (1): Dropout(p=0.5, inplace=False)\n",
            "      )\n",
            "    )\n",
            "    (2): Bottleneck(\n",
            "      (conv1): Conv2d(1024, 256, kernel_size=(1, 1), stride=(1, 1), bias=False)\n",
            "      (bn1): BatchNorm2d(256, eps=1e-05, momentum=0.1, affine=True, track_running_stats=True)\n",
            "      (conv2): Conv2d(256, 256, kernel_size=(3, 3), stride=(1, 1), padding=(1, 1), bias=False)\n",
            "      (bn2): BatchNorm2d(256, eps=1e-05, momentum=0.1, affine=True, track_running_stats=True)\n",
            "      (conv3): Conv2d(256, 1024, kernel_size=(1, 1), stride=(1, 1), bias=False)\n",
            "      (bn3): BatchNorm2d(1024, eps=1e-05, momentum=0.1, affine=True, track_running_stats=True)\n",
            "      (relu): Sequential(\n",
            "        (0): ReLU(inplace=True)\n",
            "        (1): Dropout(p=0.5, inplace=False)\n",
            "      )\n",
            "    )\n",
            "    (3): Bottleneck(\n",
            "      (conv1): Conv2d(1024, 256, kernel_size=(1, 1), stride=(1, 1), bias=False)\n",
            "      (bn1): BatchNorm2d(256, eps=1e-05, momentum=0.1, affine=True, track_running_stats=True)\n",
            "      (conv2): Conv2d(256, 256, kernel_size=(3, 3), stride=(1, 1), padding=(1, 1), bias=False)\n",
            "      (bn2): BatchNorm2d(256, eps=1e-05, momentum=0.1, affine=True, track_running_stats=True)\n",
            "      (conv3): Conv2d(256, 1024, kernel_size=(1, 1), stride=(1, 1), bias=False)\n",
            "      (bn3): BatchNorm2d(1024, eps=1e-05, momentum=0.1, affine=True, track_running_stats=True)\n",
            "      (relu): Sequential(\n",
            "        (0): ReLU(inplace=True)\n",
            "        (1): Dropout(p=0.5, inplace=False)\n",
            "      )\n",
            "    )\n",
            "    (4): Bottleneck(\n",
            "      (conv1): Conv2d(1024, 256, kernel_size=(1, 1), stride=(1, 1), bias=False)\n",
            "      (bn1): BatchNorm2d(256, eps=1e-05, momentum=0.1, affine=True, track_running_stats=True)\n",
            "      (conv2): Conv2d(256, 256, kernel_size=(3, 3), stride=(1, 1), padding=(1, 1), bias=False)\n",
            "      (bn2): BatchNorm2d(256, eps=1e-05, momentum=0.1, affine=True, track_running_stats=True)\n",
            "      (conv3): Conv2d(256, 1024, kernel_size=(1, 1), stride=(1, 1), bias=False)\n",
            "      (bn3): BatchNorm2d(1024, eps=1e-05, momentum=0.1, affine=True, track_running_stats=True)\n",
            "      (relu): Sequential(\n",
            "        (0): ReLU(inplace=True)\n",
            "        (1): Dropout(p=0.5, inplace=False)\n",
            "      )\n",
            "    )\n",
            "    (5): Bottleneck(\n",
            "      (conv1): Conv2d(1024, 256, kernel_size=(1, 1), stride=(1, 1), bias=False)\n",
            "      (bn1): BatchNorm2d(256, eps=1e-05, momentum=0.1, affine=True, track_running_stats=True)\n",
            "      (conv2): Conv2d(256, 256, kernel_size=(3, 3), stride=(1, 1), padding=(1, 1), bias=False)\n",
            "      (bn2): BatchNorm2d(256, eps=1e-05, momentum=0.1, affine=True, track_running_stats=True)\n",
            "      (conv3): Conv2d(256, 1024, kernel_size=(1, 1), stride=(1, 1), bias=False)\n",
            "      (bn3): BatchNorm2d(1024, eps=1e-05, momentum=0.1, affine=True, track_running_stats=True)\n",
            "      (relu): Sequential(\n",
            "        (0): ReLU(inplace=True)\n",
            "        (1): Dropout(p=0.5, inplace=False)\n",
            "      )\n",
            "    )\n",
            "  )\n",
            "  (layer4): Sequential(\n",
            "    (0): Bottleneck(\n",
            "      (conv1): Conv2d(1024, 512, kernel_size=(1, 1), stride=(1, 1), bias=False)\n",
            "      (bn1): BatchNorm2d(512, eps=1e-05, momentum=0.1, affine=True, track_running_stats=True)\n",
            "      (conv2): Conv2d(512, 512, kernel_size=(3, 3), stride=(2, 2), padding=(1, 1), bias=False)\n",
            "      (bn2): BatchNorm2d(512, eps=1e-05, momentum=0.1, affine=True, track_running_stats=True)\n",
            "      (conv3): Conv2d(512, 2048, kernel_size=(1, 1), stride=(1, 1), bias=False)\n",
            "      (bn3): BatchNorm2d(2048, eps=1e-05, momentum=0.1, affine=True, track_running_stats=True)\n",
            "      (relu): Sequential(\n",
            "        (0): ReLU(inplace=True)\n",
            "        (1): Dropout(p=0.5, inplace=False)\n",
            "      )\n",
            "      (downsample): Sequential(\n",
            "        (0): Conv2d(1024, 2048, kernel_size=(1, 1), stride=(2, 2), bias=False)\n",
            "        (1): BatchNorm2d(2048, eps=1e-05, momentum=0.1, affine=True, track_running_stats=True)\n",
            "      )\n",
            "    )\n",
            "    (1): Bottleneck(\n",
            "      (conv1): Conv2d(2048, 512, kernel_size=(1, 1), stride=(1, 1), bias=False)\n",
            "      (bn1): BatchNorm2d(512, eps=1e-05, momentum=0.1, affine=True, track_running_stats=True)\n",
            "      (conv2): Conv2d(512, 512, kernel_size=(3, 3), stride=(1, 1), padding=(1, 1), bias=False)\n",
            "      (bn2): BatchNorm2d(512, eps=1e-05, momentum=0.1, affine=True, track_running_stats=True)\n",
            "      (conv3): Conv2d(512, 2048, kernel_size=(1, 1), stride=(1, 1), bias=False)\n",
            "      (bn3): BatchNorm2d(2048, eps=1e-05, momentum=0.1, affine=True, track_running_stats=True)\n",
            "      (relu): Sequential(\n",
            "        (0): ReLU(inplace=True)\n",
            "        (1): Dropout(p=0.5, inplace=False)\n",
            "      )\n",
            "    )\n",
            "    (2): Bottleneck(\n",
            "      (conv1): Conv2d(2048, 512, kernel_size=(1, 1), stride=(1, 1), bias=False)\n",
            "      (bn1): BatchNorm2d(512, eps=1e-05, momentum=0.1, affine=True, track_running_stats=True)\n",
            "      (conv2): Conv2d(512, 512, kernel_size=(3, 3), stride=(1, 1), padding=(1, 1), bias=False)\n",
            "      (bn2): BatchNorm2d(512, eps=1e-05, momentum=0.1, affine=True, track_running_stats=True)\n",
            "      (conv3): Conv2d(512, 2048, kernel_size=(1, 1), stride=(1, 1), bias=False)\n",
            "      (bn3): BatchNorm2d(2048, eps=1e-05, momentum=0.1, affine=True, track_running_stats=True)\n",
            "      (relu): Sequential(\n",
            "        (0): ReLU(inplace=True)\n",
            "        (1): Dropout(p=0.5, inplace=False)\n",
            "      )\n",
            "    )\n",
            "  )\n",
            "  (avgpool): AdaptiveAvgPool2d(output_size=(1, 1))\n",
            "  (fc): Linear(in_features=2048, out_features=1, bias=True)\n",
            ")\n"
          ]
        }
      ],
      "source": [
        "# load model and change the # of classes\n",
        "# Example usage\n",
        "model = init_resnet50(init_weights=False, use_dropout=True, dropout_prob=0.5)\n",
        "print(model)"
      ]
    },
    {
      "cell_type": "markdown",
      "metadata": {
        "id": "YVE3zX9_-_01"
      },
      "source": [
        "# **3. Training**\n",
        "\n",
        "\n",
        "*   write **training code** including belows:\n",
        "   - hyper parameters such as batch size, learning rate, epoch\n",
        "   - criterion(loss function such as BCELoss), optimizer(eg. Adam, SGD, etc.)  and scheduler\n",
        "   - save model weight\n",
        "\n",
        "*   **print training/validation loss and accuracy** per epoch or iteration\n",
        "*   inlcude visualizer, **tensorboard**, to show training/validation accuracy and loss\n"
      ]
    },
    {
      "cell_type": "code",
      "execution_count": 11,
      "metadata": {
        "colab": {
          "base_uri": "https://localhost:8080/"
        },
        "id": "3GSGazJ_9_hX",
        "outputId": "631dfdac-870a-4a0d-8069-c03bfda151e2"
      },
      "outputs": [
        {
          "name": "stderr",
          "output_type": "stream",
          "text": [
            "\u001b[34m\u001b[1mwandb\u001b[0m: W&B API key is configured. Use \u001b[1m`wandb login --relogin`\u001b[0m to force relogin\n",
            "\u001b[34m\u001b[1mwandb\u001b[0m: \u001b[33mWARNING\u001b[0m If you're specifying your api key in code, ensure this code is not shared publicly.\n",
            "\u001b[34m\u001b[1mwandb\u001b[0m: \u001b[33mWARNING\u001b[0m Consider setting the WANDB_API_KEY environment variable, or running `wandb login` from the command line.\n",
            "\u001b[34m\u001b[1mwandb\u001b[0m: Appending key for api.wandb.ai to your netrc file: /root/.netrc\n"
          ]
        }
      ],
      "source": [
        "import wandb\n",
        "import sklearn\n",
        "from sklearn import metrics\n",
        "import datetime\n",
        "import os\n",
        "import torch.optim as optim\n",
        "from tqdm import tqdm\n",
        "\n",
        "WANDB_KEY = \"8aa54cefa31fe5992ce2d2969f979237aae9f81a\"\n",
        "NUM_WORKERS = os.cpu_count()\n",
        "\n",
        "wandb.login(key=WANDB_KEY)\n",
        "\n",
        "def init_wandb(project_name = \"ICPBL_REPORT\", name=\"test\", config = None):\n",
        "  if config is None:\n",
        "    config = {\n",
        "      \"architecture\": \"ResNet50\",\n",
        "      \"learning_rate\": 0.01,\n",
        "      \"batch_size\": 64,\n",
        "      \"epochs\": 50,\n",
        "      \"weight_decay\": 0,\n",
        "      \"momentum\": 0.93,\n",
        "      \"init_weights\": False,\n",
        "      \"optimizer\": 'SGD',\n",
        "      \"lr_scheduler\": \"CosineAnnealing\",\n",
        "    }\n",
        "\n",
        "  logger = wandb.init(\n",
        "    # set the wandb project where this run will be logged\n",
        "    project=project_name,\n",
        "    name = name,\n",
        "    # track hyperparameters and run metadata\n",
        "    config=config\n",
        "  )\n",
        "\n",
        "  return logger"
      ]
    },
    {
      "cell_type": "code",
      "execution_count": 12,
      "metadata": {
        "id": "ZQJGdT_weclU"
      },
      "outputs": [],
      "source": [
        "# utils\n",
        "# import matplotlib.pyplot as plt\n",
        "\n",
        "def get_labels_from_probs(y_hat):\n",
        "  return torch.where(F.sigmoid(y_hat.reshape(-1)) > 0.5, 1, 0)\n",
        "\n",
        "def get_acc(y_hat, labels):\n",
        "  if torch.is_floating_point(y_hat):\n",
        "    y_hat = get_labels_from_probs(y_hat)\n",
        "\n",
        "  return y_hat.eq(labels).sum().item()\n",
        "\n",
        "def get_roc_curve_data(labels, y_hat):\n",
        "  y_hat = y_hat.reshape(-1)\n",
        "  fprs, tprs, _ = metrics.roc_curve(labels, y_hat)\n",
        "  roc_auc = metrics.roc_auc_score(labels, y_hat)\n",
        "\n",
        "  return fprs, tprs, roc_auc\n",
        "\n",
        "def plot_roc_curve(fprs, tprs, roc_auc):\n",
        "  # sklearn 으로 ROC Curve 그리기\n",
        "  # ROC Curve를 plot 곡선으로 그림.\n",
        "  plt.plot(fprs , tprs, label=f'ROC (AUC: {roc_auc:.4f})')\n",
        "  # 가운데 대각선 직선을 그림.\n",
        "  plt.plot([0, 1], [0, 1], 'k:', label='Random')\n",
        "  plt.title('ROC curve')\n",
        "  plt.xlabel('FPR')\n",
        "  plt.ylabel('TPR')\n",
        "  plt.legend(loc='best')\n",
        "  plt.savefig('ROC.png',dpi=300);\n",
        "  return"
      ]
    },
    {
      "cell_type": "code",
      "execution_count": 26,
      "metadata": {
        "id": "ntTKQS0m9_ox"
      },
      "outputs": [],
      "source": [
        "def val_model(model, criterion, dataloader, use_sklearn = False, plot_mask=False):\n",
        "  # write validation code\n",
        "  if model.training:\n",
        "    model.eval()\n",
        "\n",
        "  accuracy = 0.0\n",
        "  loss = 0.0\n",
        "\n",
        "  global_y_hat = torch.Tensor()\n",
        "  global_y_hat.requires_grad = False\n",
        "  global_labels = torch.Tensor()\n",
        "  global_labels.requires_grad = False\n",
        "\n",
        "  with torch.no_grad():\n",
        "    for images, labels in tqdm(dataloader, total=len(dataloader)):\n",
        "      images = images.to(device)\n",
        "      labels = labels.to(device)\n",
        "\n",
        "      y_hat = model(images)\n",
        "      y_hat = y_hat.reshape(-1)\n",
        "\n",
        "      _l = criterion(y_hat, labels.type(dtype=torch.float32))\n",
        "      loss += _l.item()\n",
        "\n",
        "      accuracy += get_acc(y_hat, labels)\n",
        "\n",
        "      global_y_hat = torch.cat([global_y_hat, y_hat.cpu()], dim=-1)\n",
        "      global_labels = torch.cat([global_labels, labels.cpu()], dim=-1)\n",
        "\n",
        "  loss = float(\"{:.4f}\".format(loss / len(dataloader)))\n",
        "  accuracy = float(\"{:.4f}\".format(accuracy / len(dataloader.dataset)))\n",
        "\n",
        "  if plot_mask is True:\n",
        "    predicted_labels = get_labels_from_probs(global_y_hat)\n",
        "    show_images(dataloader.dataset, predicted_labels)\n",
        "\n",
        "  fprs, tprs, auc = get_roc_curve_data(global_labels, global_y_hat)\n",
        "\n",
        "  if use_sklearn:\n",
        "    plot_roc_curve(fprs, tprs, auc)\n",
        "\n",
        "  global_y_hat = torch.stack([torch.zeros_like(global_y_hat), global_y_hat], dim=1)\n",
        "  roc = wandb.plot.roc_curve(global_labels, global_y_hat, labels=[\"not_wearing_mask\", \"wearing_mask\"])\n",
        "\n",
        "  return accuracy, loss, auc, roc"
      ]
    },
    {
      "cell_type": "code",
      "execution_count": 19,
      "metadata": {
        "id": "dDqbC5k09_mS"
      },
      "outputs": [],
      "source": [
        "def train_model(model, optim, criterion, dataloader, lr_scheduler=None, scheduler_type=None, save_model=True):\n",
        "  if not model.training:\n",
        "      model.train()\n",
        "\n",
        "  accuracy = 0.0\n",
        "  loss = 0.0\n",
        "\n",
        "  global_y_hat = torch.Tensor()\n",
        "  global_labels = torch.Tensor()\n",
        "\n",
        "  for images, labels in tqdm(dataloader, total=len(dataloader)):\n",
        "    images = images.to(device)\n",
        "    labels = labels.to(device)\n",
        "\n",
        "    y_hat = model(images)\n",
        "    y_hat = y_hat.reshape(-1)\n",
        "\n",
        "    _l = criterion(y_hat, labels.type(dtype=torch.float32))\n",
        "\n",
        "    optim.zero_grad()\n",
        "    _l.backward()\n",
        "    optim.step()\n",
        "\n",
        "    if lr_scheduler is not None and scheduler_type == 'CyclicLR':\n",
        "      lr_scheduler.step()\n",
        "\n",
        "\n",
        "    loss += _l\n",
        "    accuracy += get_acc(y_hat, labels)\n",
        "\n",
        "    global_y_hat = torch.cat([global_y_hat, y_hat.cpu()], dim=-1)\n",
        "    global_labels = torch.cat([global_labels, labels.cpu()], dim=-1)\n",
        "\n",
        "  loss = float(\"{:.4f}\".format(loss / len(dataloader)))\n",
        "  accuracy = float(\"{:.4f}\".format(accuracy / len(dataloader.dataset)))\n",
        "\n",
        "  global_y_hat = get_labels_from_probs(global_y_hat)\n",
        "  f1_score = metrics.f1_score(global_y_hat, global_labels)\n",
        "  f1_score = float(\"{:.4f}\".format(f1_score))\n",
        "\n",
        "  if lr_scheduler is not None and scheduler_type in ['StepLR', 'CosineAnnealingLR']:\n",
        "    lr_scheduler.step()\n",
        "\n",
        "  return accuracy, loss, f1_score"
      ]
    },
    {
      "cell_type": "code",
      "execution_count": 20,
      "metadata": {
        "id": "PteSbpql9_ts"
      },
      "outputs": [],
      "source": [
        "# hyper parameters\n",
        "config = {\n",
        "    \"architecture\": \"ResNet50\",\n",
        "    \"learning_rate\": 0.01,\n",
        "    \"batch_size\": 64,\n",
        "    \"epochs\": 50,\n",
        "    \"weight_decay\": 0,\n",
        "    \"momentum\": 0.93,\n",
        "    \"init_weights\": False,\n",
        "    \"optimizer\": 'SGD',\n",
        "    \"scheduler_type\": '',\n",
        "}"
      ]
    },
    {
      "cell_type": "code",
      "execution_count": 21,
      "metadata": {
        "colab": {
          "base_uri": "https://localhost:8080/"
        },
        "collapsed": true,
        "id": "tX_gJkuhCKov",
        "outputId": "23ff1c84-98b1-4d08-adec-47f4d26693f8"
      },
      "outputs": [
        {
          "name": "stdout",
          "output_type": "stream",
          "text": [
            "None\n"
          ]
        }
      ],
      "source": [
        "# optimizer, loss, scheduler\n",
        "model = init_resnet50(init_weights=config[\"init_weights\"])\n",
        "model.to(device)\n",
        "optimizer = optim.SGD(model.parameters(), lr=0.01)\n",
        "if config[\"optimizer\"] == 'SGD':\n",
        "  optimizer = optim.SGD(model.parameters(), lr=config[\"learning_rate\"], momentum=config[\"momentum\"])\n",
        "elif config[\"optimizer\"] == 'Adam':\n",
        "  optimizer = optim.Adam(model.parameters(), lr=config[\"learning_rate\"], weight_decay=config[\"weight_decay\"])\n",
        "else:\n",
        "  pass\n",
        "\n",
        "criterion = nn.BCEWithLogitsLoss()\n",
        "criterion.to(device)\n",
        "\n",
        "# lr_scheduler\n",
        "lr_scheduler = None\n",
        "if config[\"scheduler_type\"] == 'StepLR':\n",
        "  lr_scheduler = optim.lr_scheduler.StepLR(optimizer, step_size = 5, gamma=0.8)\n",
        "elif config[\"scheduler_type\"] == 'CyclicLR':\n",
        "  lr_scheduler = optim.lr_scheduler.CyclicLR(optimizer, base_lr=0.005, max_lr=0.015, step_size_up=5, step_size_down=5, mode='triangular')\n",
        "elif config[\"scheduler_type\"] == 'CosineAnnealingLR':\n",
        "  lr_scheduler = optim.lr_scheduler.CosineAnnealingLR(optimizer, T_max=5, eta_min = 0.001)\n",
        "else:\n",
        "  pass\n",
        "\n",
        "print(lr_scheduler)"
      ]
    },
    {
      "cell_type": "code",
      "execution_count": 22,
      "metadata": {
        "id": "4xNOJab5CKrE"
      },
      "outputs": [],
      "source": [
        "# data_loader\n",
        "train_dataloader = DataLoader(train_dataset, batch_size=config[\"batch_size\"], shuffle=True, num_workers=NUM_WORKERS, pin_memory=True)\n",
        "val_dataloader = DataLoader(val_dataset, batch_size=config[\"batch_size\"], shuffle=True, num_workers=NUM_WORKERS, pin_memory=False)\n",
        "test_dataloader = DataLoader(test_dataset, batch_size=config[\"batch_size\"], shuffle=True, num_workers=NUM_WORKERS, pin_memory=False)"
      ]
    },
    {
      "cell_type": "code",
      "execution_count": 23,
      "metadata": {
        "colab": {
          "base_uri": "https://localhost:8080/",
          "height": 613,
          "referenced_widgets": [
            "c62466c78514477493af89dea0135fa4",
            "0d8cc336589d45bf8b9817fb05f537e7",
            "dbb0b92358f747408994c02f224c8019",
            "db91efc08ddc4cfc9743b1eb47ad3a8c",
            "c04cc7fde15540ceb2daaf28e0c9d9b3",
            "36256f8b765941c2973dcdd228f10621",
            "e1f8b8304f2349f0a4434e441621a0a0",
            "1bbd5f2796124ed584a22758344f40d2"
          ]
        },
        "id": "d8gaKCGC9_rW",
        "outputId": "a44df0cb-9959-4dfa-cdce-aed73d86d802"
      },
      "outputs": [
        {
          "name": "stderr",
          "output_type": "stream",
          "text": [
            "\u001b[34m\u001b[1mwandb\u001b[0m: Currently logged in as: \u001b[33mordidxzero\u001b[0m (\u001b[33mzettelkasten\u001b[0m). Use \u001b[1m`wandb login --relogin`\u001b[0m to force relogin\n"
          ]
        },
        {
          "data": {
            "text/html": [
              "Tracking run with wandb version 0.17.0"
            ],
            "text/plain": [
              "<IPython.core.display.HTML object>"
            ]
          },
          "metadata": {},
          "output_type": "display_data"
        },
        {
          "data": {
            "text/html": [
              "Run data is saved locally in <code>/content/wandb/run-20240604_035544-wuv3jevz</code>"
            ],
            "text/plain": [
              "<IPython.core.display.HTML object>"
            ]
          },
          "metadata": {},
          "output_type": "display_data"
        },
        {
          "data": {
            "text/html": [
              "Syncing run <strong><a href='https://wandb.ai/zettelkasten/ResNet50/runs/wuv3jevz' target=\"_blank\">test</a></strong> to <a href='https://wandb.ai/zettelkasten/ResNet50' target=\"_blank\">Weights & Biases</a> (<a href='https://wandb.me/run' target=\"_blank\">docs</a>)<br/>"
            ],
            "text/plain": [
              "<IPython.core.display.HTML object>"
            ]
          },
          "metadata": {},
          "output_type": "display_data"
        },
        {
          "data": {
            "text/html": [
              " View project at <a href='https://wandb.ai/zettelkasten/ResNet50' target=\"_blank\">https://wandb.ai/zettelkasten/ResNet50</a>"
            ],
            "text/plain": [
              "<IPython.core.display.HTML object>"
            ]
          },
          "metadata": {},
          "output_type": "display_data"
        },
        {
          "data": {
            "text/html": [
              " View run at <a href='https://wandb.ai/zettelkasten/ResNet50/runs/wuv3jevz' target=\"_blank\">https://wandb.ai/zettelkasten/ResNet50/runs/wuv3jevz</a>"
            ],
            "text/plain": [
              "<IPython.core.display.HTML object>"
            ]
          },
          "metadata": {},
          "output_type": "display_data"
        },
        {
          "name": "stderr",
          "output_type": "stream",
          "text": [
            "\r  0%|          | 0/268 [00:00<?, ?it/s]/usr/local/lib/python3.10/dist-packages/torch/autograd/graph.py:744: UserWarning: Plan failed with a cudnnException: CUDNN_BACKEND_EXECUTION_PLAN_DESCRIPTOR: cudnnFinalize Descriptor Failed cudnn_status: CUDNN_STATUS_NOT_SUPPORTED (Triggered internally at ../aten/src/ATen/native/cudnn/Conv_v8.cpp:919.)\n",
            "  return Variable._execution_engine.run_backward(  # Calls into the C++ engine to run the backward pass\n",
            "100%|██████████| 268/268 [01:02<00:00,  4.27it/s]\n",
            "100%|██████████| 90/90 [00:42<00:00,  2.10it/s]\n"
          ]
        },
        {
          "name": "stdout",
          "output_type": "stream",
          "text": [
            "\n",
            "Epoch               :  1\n",
            "Train Accuracy      : 0.7562\n",
            "Train Loss          : 0.4952\n",
            "Val Accuracy        : 0.8012\n",
            "Val Loss            : 0.4724\n",
            "\n"
          ]
        },
        {
          "data": {
            "application/vnd.jupyter.widget-view+json": {
              "model_id": "c62466c78514477493af89dea0135fa4",
              "version_major": 2,
              "version_minor": 0
            },
            "text/plain": [
              "VBox(children=(Label(value='0.030 MB of 0.059 MB uploaded\\r'), FloatProgress(value=0.5143203099773975, max=1.0…"
            ]
          },
          "metadata": {},
          "output_type": "display_data"
        },
        {
          "data": {
            "text/html": [
              "<style>\n",
              "    table.wandb td:nth-child(1) { padding: 0 10px; text-align: left ; width: auto;} td:nth-child(2) {text-align: left ; width: 100%}\n",
              "    .wandb-row { display: flex; flex-direction: row; flex-wrap: wrap; justify-content: flex-start; width: 100% }\n",
              "    .wandb-col { display: flex; flex-direction: column; flex-basis: 100%; flex: 1; padding: 10px; }\n",
              "    </style>\n",
              "<div class=\"wandb-row\"><div class=\"wandb-col\"><h3>Run history:</h3><br/><table class=\"wandb\"><tr><td>auc</td><td>▁</td></tr><tr><td>train_acc</td><td>▁</td></tr><tr><td>train_loss</td><td>▁</td></tr><tr><td>val_acc</td><td>▁</td></tr><tr><td>val_loss</td><td>▁</td></tr></table><br/></div><div class=\"wandb-col\"><h3>Run summary:</h3><br/><table class=\"wandb\"><tr><td>auc</td><td>0.89359</td></tr><tr><td>train_acc</td><td>0.7562</td></tr><tr><td>train_loss</td><td>0.4952</td></tr><tr><td>val_acc</td><td>0.8012</td></tr><tr><td>val_loss</td><td>0.4724</td></tr></table><br/></div></div>"
            ],
            "text/plain": [
              "<IPython.core.display.HTML object>"
            ]
          },
          "metadata": {},
          "output_type": "display_data"
        },
        {
          "data": {
            "text/html": [
              " View run <strong style=\"color:#cdcd00\">test</strong> at: <a href='https://wandb.ai/zettelkasten/ResNet50/runs/wuv3jevz' target=\"_blank\">https://wandb.ai/zettelkasten/ResNet50/runs/wuv3jevz</a><br/> View project at: <a href='https://wandb.ai/zettelkasten/ResNet50' target=\"_blank\">https://wandb.ai/zettelkasten/ResNet50</a><br/>Synced 5 W&B file(s), 1 media file(s), 1 artifact file(s) and 0 other file(s)"
            ],
            "text/plain": [
              "<IPython.core.display.HTML object>"
            ]
          },
          "metadata": {},
          "output_type": "display_data"
        },
        {
          "data": {
            "text/html": [
              "Find logs at: <code>./wandb/run-20240604_035544-wuv3jevz/logs</code>"
            ],
            "text/plain": [
              "<IPython.core.display.HTML object>"
            ]
          },
          "metadata": {},
          "output_type": "display_data"
        }
      ],
      "source": [
        "# training and validation code can be writed in one function. It's your taste!\n",
        "from copy import deepcopy\n",
        "import json\n",
        "\n",
        "logger = init_wandb(project_name=\"ResNet50\", config=config)\n",
        "\n",
        "best_f1_score = 0.0\n",
        "best_f1_model = None\n",
        "best_model_metadata = None\n",
        "\n",
        "for epoch in range(config['epochs']):\n",
        "  train_acc, train_loss, f1_score = train_model(model, optim=optimizer, criterion=criterion, dataloader=train_dataloader, lr_scheduler=lr_scheduler, scheduler_type=config[\"scheduler_type\"])\n",
        "  val_acc, val_loss, auc, roc = val_model(model, criterion=criterion, dataloader=val_dataloader)\n",
        "\n",
        "  logger.log({\"train_acc\": train_acc}, step=epoch)\n",
        "  logger.log({\"train_loss\": train_loss}, step=epoch)\n",
        "  logger.log({\"val_acc\": val_acc}, step=epoch)\n",
        "  logger.log({\"val_loss\": val_loss}, step=epoch)\n",
        "\n",
        "  if epoch % 10 == 0:\n",
        "    logger.log({\"roc\": roc, \"auc\": auc})\n",
        "\n",
        "  if f1_score > best_f1_score:\n",
        "    best_f1_score = f1_score\n",
        "    best_f1_model = deepcopy(model.state_dict())\n",
        "    best_model_metadata = {\n",
        "        \"epoch\": epoch\n",
        "    }\n",
        "\n",
        "  print(\"\")\n",
        "  print(f\"{'Epoch':<20}:  {epoch+1}\")\n",
        "  print(f\"{'Train Accuracy':<20}: {train_acc}\")\n",
        "  print(f\"{'Train Loss':<20}: {train_loss}\")\n",
        "  print(f\"{'Val Accuracy':<20}: {val_acc}\")\n",
        "  print(f\"{'Val Loss':<20}: {val_loss}\")\n",
        "  print(\"\")\n",
        "\n",
        "wandb.finish()\n",
        "\n",
        "save_model_path = Path(\"./best_model.pt\")\n",
        "\n",
        "torch.save(best_f1_model, save_model_path)\n",
        "with open(Path(\"./best_model_metadata.json\"), 'w', encoding=\"utf-8\") as f:\n",
        "  json.dump(best_model_metadata, f, ensure_ascii=False, indent=4)"
      ]
    },
    {
      "cell_type": "code",
      "execution_count": 29,
      "metadata": {
        "colab": {
          "base_uri": "https://localhost:8080/",
          "height": 326
        },
        "id": "vO3I7NtkCyl-",
        "outputId": "685c5735-80d5-4d99-fe56-2e13e305fd2a"
      },
      "outputs": [
        {
          "name": "stderr",
          "output_type": "stream",
          "text": [
            "100%|██████████| 90/90 [00:12<00:00,  7.45it/s]\n"
          ]
        },
        {
          "data": {
            "image/png": "[encoded data removed]",
            "text/plain": [
              "<Figure size 600x300 with 8 Axes>"
            ]
          },
          "metadata": {},
          "output_type": "display_data"
        }
      ],
      "source": [
        "val_acc, val_loss, auc, roc = val_model(model, criterion=criterion, dataloader=val_dataloader, plot_mask=True)"
      ]
    },
    {
      "cell_type": "code",
      "execution_count": null,
      "metadata": {
        "id": "V62h0NkvfDtE"
      },
      "outputs": [],
      "source": [
        "# ROC curve, AUC (Hint: use sklearn or wandb function, using sklearn to extract fpr, tpr will be bonus score)\n",
        "model = init_resnet50()\n",
        "model.load_state_dict(torch.load(save_model_path))\n",
        "model.to(device)\n",
        "test_acc, test_loss, roc_auc, roc = val_model(model, criterion=criterion, dataloader=test_dataloader, use_sklearn=True, plot_mask=True)"
      ]
    },
    {
      "cell_type": "code",
      "execution_count": null,
      "metadata": {
        "id": "AjqAwZTotG-k"
      },
      "outputs": [],
      "source": [
        "print(test_acc)\n",
        "# print(fpr)\n",
        "# print(tpr)\n",
        "\n",
        "# 25"
      ]
    }
  ],
  "metadata": {
    "accelerator": "GPU",
    "colab": {
      "gpuType": "T4",
      "provenance": []
    },
    "kernelspec": {
      "display_name": "Python 3",
      "name": "python3"
    },
    "language_info": {
      "name": "python"
    },
    "widgets": {
      "application/vnd.jupyter.widget-state+json": {
        "0d8cc336589d45bf8b9817fb05f537e7": {
          "model_module": "@jupyter-widgets/controls",
          "model_module_version": "1.5.0",
          "model_name": "LabelModel",
          "state": {
            "_dom_classes": [],
            "_model_module": "@jupyter-widgets/controls",
            "_model_module_version": "1.5.0",
            "_model_name": "LabelModel",
            "_view_count": null,
            "_view_module": "@jupyter-widgets/controls",
            "_view_module_version": "1.5.0",
            "_view_name": "LabelView",
            "description": "",
            "description_tooltip": null,
            "layout": "IPY_MODEL_c04cc7fde15540ceb2daaf28e0c9d9b3",
            "placeholder": "​",
            "style": "IPY_MODEL_36256f8b765941c2973dcdd228f10621",
            "value": "0.071 MB of 0.071 MB uploaded\r"
          }
        },
        "1bbd5f2796124ed584a22758344f40d2": {
          "model_module": "@jupyter-widgets/controls",
          "model_module_version": "1.5.0",
          "model_name": "ProgressStyleModel",
          "state": {
            "_model_module": "@jupyter-widgets/controls",
            "_model_module_version": "1.5.0",
            "_model_name": "ProgressStyleModel",
            "_view_count": null,
            "_view_module": "@jupyter-widgets/base",
            "_view_module_version": "1.2.0",
            "_view_name": "StyleView",
            "bar_color": null,
            "description_width": ""
          }
        },
        "36256f8b765941c2973dcdd228f10621": {
          "model_module": "@jupyter-widgets/controls",
          "model_module_version": "1.5.0",
          "model_name": "DescriptionStyleModel",
          "state": {
            "_model_module": "@jupyter-widgets/controls",
            "_model_module_version": "1.5.0",
            "_model_name": "DescriptionStyleModel",
            "_view_count": null,
            "_view_module": "@jupyter-widgets/base",
            "_view_module_version": "1.2.0",
            "_view_name": "StyleView",
            "description_width": ""
          }
        },
        "c04cc7fde15540ceb2daaf28e0c9d9b3": {
          "model_module": "@jupyter-widgets/base",
          "model_module_version": "1.2.0",
          "model_name": "LayoutModel",
          "state": {
            "_model_module": "@jupyter-widgets/base",
            "_model_module_version": "1.2.0",
            "_model_name": "LayoutModel",
            "_view_count": null,
            "_view_module": "@jupyter-widgets/base",
            "_view_module_version": "1.2.0",
            "_view_name": "LayoutView",
            "align_content": null,
            "align_items": null,
            "align_self": null,
            "border": null,
            "bottom": null,
            "display": null,
            "flex": null,
            "flex_flow": null,
            "grid_area": null,
            "grid_auto_columns": null,
            "grid_auto_flow": null,
            "grid_auto_rows": null,
            "grid_column": null,
            "grid_gap": null,
            "grid_row": null,
            "grid_template_areas": null,
            "grid_template_columns": null,
            "grid_template_rows": null,
            "height": null,
            "justify_content": null,
            "justify_items": null,
            "left": null,
            "margin": null,
            "max_height": null,
            "max_width": null,
            "min_height": null,
            "min_width": null,
            "object_fit": null,
            "object_position": null,
            "order": null,
            "overflow": null,
            "overflow_x": null,
            "overflow_y": null,
            "padding": null,
            "right": null,
            "top": null,
            "visibility": null,
            "width": null
          }
        },
        "c62466c78514477493af89dea0135fa4": {
          "model_module": "@jupyter-widgets/controls",
          "model_module_version": "1.5.0",
          "model_name": "VBoxModel",
          "state": {
            "_dom_classes": [],
            "_model_module": "@jupyter-widgets/controls",
            "_model_module_version": "1.5.0",
            "_model_name": "VBoxModel",
            "_view_count": null,
            "_view_module": "@jupyter-widgets/controls",
            "_view_module_version": "1.5.0",
            "_view_name": "VBoxView",
            "box_style": "",
            "children": [
              "IPY_MODEL_0d8cc336589d45bf8b9817fb05f537e7",
              "IPY_MODEL_dbb0b92358f747408994c02f224c8019"
            ],
            "layout": "IPY_MODEL_db91efc08ddc4cfc9743b1eb47ad3a8c"
          }
        },
        "db91efc08ddc4cfc9743b1eb47ad3a8c": {
          "model_module": "@jupyter-widgets/base",
          "model_module_version": "1.2.0",
          "model_name": "LayoutModel",
          "state": {
            "_model_module": "@jupyter-widgets/base",
            "_model_module_version": "1.2.0",
            "_model_name": "LayoutModel",
            "_view_count": null,
            "_view_module": "@jupyter-widgets/base",
            "_view_module_version": "1.2.0",
            "_view_name": "LayoutView",
            "align_content": null,
            "align_items": null,
            "align_self": null,
            "border": null,
            "bottom": null,
            "display": null,
            "flex": null,
            "flex_flow": null,
            "grid_area": null,
            "grid_auto_columns": null,
            "grid_auto_flow": null,
            "grid_auto_rows": null,
            "grid_column": null,
            "grid_gap": null,
            "grid_row": null,
            "grid_template_areas": null,
            "grid_template_columns": null,
            "grid_template_rows": null,
            "height": null,
            "justify_content": null,
            "justify_items": null,
            "left": null,
            "margin": null,
            "max_height": null,
            "max_width": null,
            "min_height": null,
            "min_width": null,
            "object_fit": null,
            "object_position": null,
            "order": null,
            "overflow": null,
            "overflow_x": null,
            "overflow_y": null,
            "padding": null,
            "right": null,
            "top": null,
            "visibility": null,
            "width": null
          }
        },
        "dbb0b92358f747408994c02f224c8019": {
          "model_module": "@jupyter-widgets/controls",
          "model_module_version": "1.5.0",
          "model_name": "FloatProgressModel",
          "state": {
            "_dom_classes": [],
            "_model_module": "@jupyter-widgets/controls",
            "_model_module_version": "1.5.0",
            "_model_name": "FloatProgressModel",
            "_view_count": null,
            "_view_module": "@jupyter-widgets/controls",
            "_view_module_version": "1.5.0",
            "_view_name": "ProgressView",
            "bar_style": "",
            "description": "",
            "description_tooltip": null,
            "layout": "IPY_MODEL_e1f8b8304f2349f0a4434e441621a0a0",
            "max": 1,
            "min": 0,
            "orientation": "horizontal",
            "style": "IPY_MODEL_1bbd5f2796124ed584a22758344f40d2",
            "value": 1
          }
        },
        "e1f8b8304f2349f0a4434e441621a0a0": {
          "model_module": "@jupyter-widgets/base",
          "model_module_version": "1.2.0",
          "model_name": "LayoutModel",
          "state": {
            "_model_module": "@jupyter-widgets/base",
            "_model_module_version": "1.2.0",
            "_model_name": "LayoutModel",
            "_view_count": null,
            "_view_module": "@jupyter-widgets/base",
            "_view_module_version": "1.2.0",
            "_view_name": "LayoutView",
            "align_content": null,
            "align_items": null,
            "align_self": null,
            "border": null,
            "bottom": null,
            "display": null,
            "flex": null,
            "flex_flow": null,
            "grid_area": null,
            "grid_auto_columns": null,
            "grid_auto_flow": null,
            "grid_auto_rows": null,
            "grid_column": null,
            "grid_gap": null,
            "grid_row": null,
            "grid_template_areas": null,
            "grid_template_columns": null,
            "grid_template_rows": null,
            "height": null,
            "justify_content": null,
            "justify_items": null,
            "left": null,
            "margin": null,
            "max_height": null,
            "max_width": null,
            "min_height": null,
            "min_width": null,
            "object_fit": null,
            "object_position": null,
            "order": null,
            "overflow": null,
            "overflow_x": null,
            "overflow_y": null,
            "padding": null,
            "right": null,
            "top": null,
            "visibility": null,
            "width": null
          }
        }
      }
    }
  },
  "nbformat": 4,
  "nbformat_minor": 0
}
